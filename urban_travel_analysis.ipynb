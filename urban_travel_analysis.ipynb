# Install NetworkX if not available
try:
    import networkx as nx
except ImportError:
    !pip install networkx
    import networkx as nx

print("Analysis Complete!")
print("=" * 50)
print("✓ Descriptive statistics calculated")
print("✓ Professional visualizations created")
print("✓ SEM model fitted with latent constructs")
print("✓ Model fit indices displayed")
print("✓ Path diagram generated")
print("\nThis notebook provides a comprehensive analysis of urban travel data")
print("including descriptive statistics, visualizations, and structural equation modeling.")# Generate Path Diagram
print("\nPATH DIAGRAM GENERATION")
print("=" * 30)

if model is not None:
    try:
        # Try to create path diagram using semopy's built-in functionality
        from semopy import semplot
        
        # Generate path diagram
        plt.figure(figsize=(15, 10))
        
        try:
            # Create the path diagram
            semplot(model, df_sem_final, plot_covs=True, std_ests=True)
            plt.title("SEM Path Diagram", fontsize=16, fontweight='bold', pad=20)
            plt.tight_layout()
            plt.show()
            print("Path diagram successfully generated using semopy!")
            
        except Exception as semplot_error:
            print(f"semplot error: {semplot_error}")
            
            # Alternative: Create a simple network diagram
            try:
                import networkx as nx
                
                G = nx.DiGraph()
                
                # Add nodes for latent variables
                latent_vars = ['Sociodemographic', 'Housing', 'Economic', 'Travel_Activity', 'Accessibility', 'Travel_Behavior']
                observed_vars = list(df_sem_final.columns)
                
                # Add nodes
                for var in latent_vars:
                    G.add_node(var, node_type='latent')
                for var in observed_vars:
                    G.add_node(var, node_type='observed')
                
                # Add edges based on model specification
                spec_lines = final_model_spec.split('\n')
                for line in spec_lines:
                    if '=~' in line:
                        parts = line.split('=~')
                        if len(parts) == 2:
                            lhs = parts[0].strip()
                            rhs_vars = [var.strip() for var in parts[1].split('+') if var.strip()]
                            for var in rhs_vars:
                                if var in observed_vars:
                                    G.add_edge(lhs, var)
                
                # Create layout
                plt.figure(figsize=(16, 12))
                pos = nx.spring_layout(G, k=3, iterations=50)
                
                # Draw nodes
                latent_nodes = [n for n in G.nodes() if n in latent_vars]
                observed_nodes = [n for n in G.nodes() if n in observed_vars]
                
                nx.draw_networkx_nodes(G, pos, nodelist=latent_nodes, 
                                     node_color='lightblue', node_size=3000, 
                                     node_shape='o', alpha=0.8)
                nx.draw_networkx_nodes(G, pos, nodelist=observed_nodes, 
                                     node_color='lightcoral', node_size=2000, 
                                     node_shape='s', alpha=0.8)
                
                # Draw edges
                nx.draw_networkx_edges(G, pos, edge_color='gray', 
                                     arrows=True, arrowsize=20, alpha=0.6)
                
                # Draw labels
                nx.draw_networkx_labels(G, pos, font_size=10, font_weight='bold')
                
                plt.title("SEM Path Diagram (Network Representation)", 
                         fontsize=16, fontweight='bold', pad=20)
                plt.axis('off')
                plt.tight_layout()
                plt.show()
                
                print("Alternative path diagram generated using NetworkX!")
                
            except Exception as nx_error:
                print(f"NetworkX error: {nx_error}")
                print("Unable to generate path diagram.")
            
    except ImportError:
        print("semplot not available. Generating text-based path representation:")
        print("\nMODEL STRUCTURE:")
        print("-" * 20)
        print(final_model_spec)
        
else:
    print("No model available for path diagram generation.")# Display Model Fit Indices and Path Coefficients
if model is not None and optimizer is not None:
    print("\nMODEL FIT INDICES")
    print("=" * 30)
    
    # Get fit indices
    try:
        fit_stats = optimizer.calc_stats(df_sem_final)
        
        # Display key fit indices
        if 'DoF' in fit_stats:
            print(f"Degrees of Freedom: {fit_stats['DoF']:.0f}")
        if 'Chi-square' in fit_stats:
            print(f"Chi-square: {fit_stats['Chi-square']:.3f}")
        if 'p-value' in fit_stats:
            print(f"p-value: {fit_stats['p-value']:.3f}")
        if 'CFI' in fit_stats:
            print(f"CFI (Comparative Fit Index): {fit_stats['CFI']:.3f}")
        if 'TLI' in fit_stats:
            print(f"TLI (Tucker-Lewis Index): {fit_stats['TLI']:.3f}")
        if 'RMSEA' in fit_stats:
            print(f"RMSEA (Root Mean Square Error): {fit_stats['RMSEA']:.3f}")
        if 'SRMR' in fit_stats:
            print(f"SRMR (Standardized Root Mean Square): {fit_stats['SRMR']:.3f}")
        if 'AIC' in fit_stats:
            print(f"AIC (Akaike Information Criterion): {fit_stats['AIC']:.3f}")
        if 'BIC' in fit_stats:
            print(f"BIC (Bayesian Information Criterion): {fit_stats['BIC']:.3f}")
            
        # Model interpretation guide
        print("\nFIT INDICES INTERPRETATION:")
        print("• CFI, TLI > 0.95: Excellent fit")
        print("• RMSEA < 0.05: Close fit; < 0.08: Reasonable fit")
        print("• SRMR < 0.08: Good fit")
        
    except Exception as e:
        print(f"Error calculating fit statistics: {e}")
    
    print("\nSTANDARDIZED PATH COEFFICIENTS")
    print("=" * 40)
    
    # Get parameter estimates
    try:
        estimates = model.inspect()
        standardized_estimates = optimizer.calc_estimates(df_sem_final, std=True)
        
        print("Parameter Estimates (Standardized):")
        print("-" * 50)
        
        for param, value in standardized_estimates.items():
            if isinstance(value, (int, float)):
                print(f"{param}: {value:.3f}")
        
    except Exception as e:
        print(f"Error getting parameter estimates: {e}")
        
else:
    print("Model fitting failed. Cannot display fit indices.")# Fit the SEM model
try:
    model = Model(final_model_spec)
    optimizer = Optimizer(model)
    optimizer.optimize(df_sem_final)
    
    print("\nMODEL SUCCESSFULLY FITTED!")
    print("=" * 30)
    
except Exception as e:
    print(f"Error fitting full model: {e}")
    print("\nTrying simplified model...")
    
    # Simplified model with available variables
    simplified_spec = f"""
    # Simplified measurement models
    """
    
    # Add constructs based on available variables
    if all(var in available_vars for var in ['Gender', 'Total_Family_Member']):
        simplified_spec += "Sociodemographic =~ Gender + Total_Family_Member\n"
    
    if all(var in available_vars for var in ['Family_Income', 'Vehicle_Ownership']):
        simplified_spec += "Economic =~ Family_Income + Vehicle_Ownership\n"
    
    travel_vars = [var for var in ['Total_Trip', 'Total_Cost', 'Total_Distance', 'Total_Time'] if var in available_vars]
    if len(travel_vars) >= 2:
        simplified_spec += f"Travel_Activity =~ {' + '.join(travel_vars)}\n"
    
    mode_vars = [var for var in ['Working_Mode', 'School_Mode', 'Shopping_Mode', 'Recreation_Mode'] if var in available_vars]
    if len(mode_vars) >= 2:
        simplified_spec += f"Accessibility =~ {' + '.join(mode_vars)}\n"
    
    print("Simplified Model Specification:")
    print(simplified_spec)
    
    try:
        model = Model(simplified_spec)
        optimizer = Optimizer(model)
        optimizer.optimize(df_sem_final)
        print("\nSIMPLIFIED MODEL SUCCESSFULLY FITTED!")
        print("=" * 40)
    except Exception as e2:
        print(f"Error with simplified model: {e2}")
        model = None
        optimizer = None# Structural Equation Modeling with semopy
print("STRUCTURAL EQUATION MODELING")
print("=" * 50)

# Define the SEM model with latent constructs
model_spec = """
# Measurement Model (Latent Constructs)
Sociodemographic =~ Gender + Total_Family_Member
Housing =~ House_Ownership + Building_Material_Roof + Building_Material_Wall + Building_Material_Floor  
Economic =~ Family_Income + Vehicle_Ownership
Travel_Activity =~ Total_Trip + Total_Cost + Total_Distance + Total_Time
Accessibility =~ Working_Mode + School_Mode + Shopping_Mode + Recreation_Mode

# Structural Model
Travel_Behavior =~ Sociodemographic + Housing + Economic + Travel_Activity + Accessibility

# Covariances between latent variables
Sociodemographic ~~ Housing
Sociodemographic ~~ Economic
Housing ~~ Economic
Travel_Activity ~~ Accessibility
"""

# Filter model specification based on available columns
available_vars = set(df_sem_final.columns)
model_lines = model_spec.strip().split('\n')
filtered_lines = []

for line in model_lines:
    if '=~' in line or '~~' in line:
        # Extract variable names from the line
        parts = line.split('=~') if '=~' in line else line.split('~~')
        if len(parts) == 2:
            lhs = parts[0].strip()
            rhs_vars = [var.strip() for var in parts[1].split('+')]
            
            # Check if all RHS variables are available
            available_rhs = [var for var in rhs_vars if var in available_vars or var in ['Sociodemographic', 'Housing', 'Economic', 'Travel_Activity', 'Accessibility', 'Travel_Behavior']]
            
            if len(available_rhs) >= 2:  # Need at least 2 indicators for latent variables
                filtered_lines.append(f"{lhs} =~ {' + '.join(available_rhs)}")
            elif '~~' in line and all(var in ['Sociodemographic', 'Housing', 'Economic', 'Travel_Activity', 'Accessibility'] for var in [lhs, parts[1].strip()]):
                filtered_lines.append(line)
    else:
        filtered_lines.append(line)

final_model_spec = '\n'.join(filtered_lines)
print("Model Specification:")
print(final_model_spec)# Data Preprocessing for SEM
# Convert categorical variables to numeric where needed
df_sem = df.copy()

# Function to encode categorical variables
def encode_categorical(series):
    if series.dtype == 'object':
        return pd.Categorical(series).codes
    return series

# Apply encoding to categorical columns
categorical_columns = df_sem.select_dtypes(include=['object']).columns
for col in categorical_columns:
    if col in analysis_columns:
        df_sem[col] = encode_categorical(df_sem[col])

# Select only the analysis columns that exist in the dataset
sem_columns = [col for col in analysis_columns if col in df_sem.columns]
df_sem_final = df_sem[sem_columns].dropna()

print(f"SEM dataset shape: {df_sem_final.shape}")
print(f"Available columns for SEM: {list(df_sem_final.columns)}")# Professional-grade Visualizations
plt.style.use('seaborn-v0_8')

# Create figure with subplots
fig = plt.figure(figsize=(20, 16))

# 1. Income Distribution
plt.subplot(2, 3, 1)
if 'Family_Income' in df.columns:
    sns.histplot(data=df, x='Family_Income', kde=True, alpha=0.7, color='#7fcdcd')
    plt.title('Family Income Distribution', fontweight='bold', fontsize=14)
    plt.xlabel('Family Income', fontweight='bold')
    plt.ylabel('Frequency', fontweight='bold')

# 2. Vehicle Ownership
plt.subplot(2, 3, 2)
if 'Vehicle_Ownership' in df.columns:
    vehicle_counts = df['Vehicle_Ownership'].value_counts()
    colors = sns.color_palette("pastel", len(vehicle_counts))
    plt.pie(vehicle_counts.values, labels=vehicle_counts.index, autopct='%1.1f%%', 
            colors=colors, startangle=90)
    plt.title('Vehicle Ownership Distribution', fontweight='bold', fontsize=14)

# 3. House Ownership
plt.subplot(2, 3, 3)
if 'House_Ownership' in df.columns:
    sns.countplot(data=df, x='House_Ownership', palette='muted')
    plt.title('House Ownership Distribution', fontweight='bold', fontsize=14)
    plt.xlabel('House Ownership', fontweight='bold')
    plt.ylabel('Count', fontweight='bold')
    plt.xticks(rotation=45)

# 4. Transport Modes Comparison
plt.subplot(2, 3, 4)
transport_modes = ['Working_Mode', 'School_Mode', 'Shopping_Mode', 'Recreation_Mode']
available_modes = [col for col in transport_modes if col in df.columns]
if available_modes:
    mode_data = []
    mode_labels = []
    for mode in available_modes:
        mode_counts = df[mode].value_counts()
        mode_data.extend(mode_counts.values)
        mode_labels.extend([f"{mode.replace('_Mode', '')}\n{idx}" for idx in mode_counts.index])
    
    colors = sns.color_palette("Set2", len(mode_data))
    plt.bar(range(len(mode_data)), mode_data, color=colors)
    plt.title('Transport Modes Usage', fontweight='bold', fontsize=14)
    plt.xlabel('Transport Mode', fontweight='bold')
    plt.ylabel('Usage Count', fontweight='bold')
    plt.xticks(range(len(mode_data)), mode_labels, rotation=45, ha='right')

# 5. Total Cost vs Total Distance
plt.subplot(2, 3, 5)
if 'Total_Cost' in df.columns and 'Total_Distance' in df.columns:
    sns.scatterplot(data=df, x='Total_Distance', y='Total_Cost', alpha=0.6, color='#ff9999')
    plt.title('Travel Cost vs Distance', fontweight='bold', fontsize=14)
    plt.xlabel('Total Distance', fontweight='bold')
    plt.ylabel('Total Cost', fontweight='bold')

# 6. Family Size vs Trip Frequency
plt.subplot(2, 3, 6)
if 'Total_Family_Member' in df.columns and 'Total_Trip' in df.columns:
    sns.boxplot(data=df, x='Total_Family_Member', y='Total_Trip', palette='pastel')
    plt.title('Family Size vs Trip Frequency', fontweight='bold', fontsize=14)
    plt.xlabel('Total Family Members', fontweight='bold')
    plt.ylabel('Total Trips', fontweight='bold')

plt.tight_layout(pad=3.0)
plt.show()# Define columns for analysis
analysis_columns = [
    'Gender', 'Total_Family_Member', 'House_Ownership', 'Building_Material_Roof',
    'Building_Material_Wall', 'Building_Material_Floor', 'Family_Income',
    'Vehicle_Ownership', 'Total_Trip', 'Total_Cost', 'Total_Distance',
    'Total_Time', 'Working_Mode', 'School_Mode', 'Shopping_Mode', 'Recreation_Mode'
]

# Descriptive Statistics
print("DESCRIPTIVE STATISTICS")
print("=" * 50)

for col in analysis_columns:
    if col in df.columns:
        if df[col].dtype in ['int64', 'float64']:
            print(f"\n{col}:")
            print(f"  Mean: {df[col].mean():.3f}")
            print(f"  Median: {df[col].median():.3f}")
            print(f"  Std: {df[col].std():.3f}")
        else:
            print(f"\n{col} (Categorical):")
            print(f"  Mode: {df[col].mode().iloc[0] if not df[col].mode().empty else 'N/A'}")
            print(f"  Unique values: {df[col].nunique()}")
    else:
        print(f"\nWarning: Column '{col}' not found in dataset")# Load the dataset
df = pd.read_csv('urban_travel_data.csv')

# Display basic information about the dataset
print(f"Dataset shape: {df.shape}")
print(f"Dataset columns: {list(df.columns)}")
print("\nFirst 5 rows:")
df.head()# Import required libraries
import pandas as pd
import numpy as np
import matplotlib.pyplot as plt
import seaborn as sns
from semopy import Model, Optimizer
import warnings
warnings.filterwarnings('ignore')

# Configure plotting settings
plt.rcParams.update({
    'font.size': 12,
    'axes.titlesize': 14,
    'axes.labelsize': 12,
    'xtick.labelsize': 11,
    'ytick.labelsize': 11,
    'legend.fontsize': 11,
    'figure.titlesize': 16
})

# Set seaborn style
sns.set_style("whitegrid")
sns.set_palette("muted")# Install required packages
!pip install pandas numpy matplotlib seaborn semopy graphviz
!apt-get install -y graphviz